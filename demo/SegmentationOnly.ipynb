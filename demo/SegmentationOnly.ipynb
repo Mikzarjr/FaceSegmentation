{
 "cells": [
  {
   "metadata": {},
   "cell_type": "markdown",
   "source": "## Import FaceSeg class ",
   "id": "ae13d693a5a9438"
  },
  {
   "cell_type": "code",
   "id": "initial_id",
   "metadata": {
    "collapsed": true,
    "ExecuteTime": {
     "end_time": "2024-08-22T18:48:11.313420Z",
     "start_time": "2024-08-22T18:48:11.310362Z"
    }
   },
   "source": [
    "from FaceSegmentation.Segmentation.Segmentation import FaceSeg\n",
    "from FaceSegmentation.src.utils import IMGS_DIR"
   ],
   "outputs": [
    {
     "name": "stdout",
     "output_type": "stream",
     "text": [
      "/Users/mike/Documents/GitHub/Face-Segmentation/constant/Assets/TestImages/img1.jpeg\n"
     ]
    }
   ],
   "execution_count": 2
  },
  {
   "metadata": {},
   "cell_type": "code",
   "outputs": [],
   "execution_count": null,
   "source": "image_path = f\"{IMGS_DIR}/img1.jpeg\"",
   "id": "be72fc5af276ab34"
  },
  {
   "metadata": {},
   "cell_type": "code",
   "outputs": [],
   "execution_count": null,
   "source": [
    "S = FaceSeg(image_path)\n",
    "Masks = S.Segment\n",
    "S.SaveMasks()"
   ],
   "id": "44a37be7fc8cb451"
  }
 ],
 "metadata": {
  "kernelspec": {
   "display_name": "Python 3",
   "language": "python",
   "name": "python3"
  },
  "language_info": {
   "codemirror_mode": {
    "name": "ipython",
    "version": 2
   },
   "file_extension": ".py",
   "mimetype": "text/x-python",
   "name": "python",
   "nbconvert_exporter": "python",
   "pygments_lexer": "ipython2",
   "version": "2.7.6"
  }
 },
 "nbformat": 4,
 "nbformat_minor": 5
}
